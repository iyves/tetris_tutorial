{
 "cells": [
  {
   "cell_type": "markdown",
   "metadata": {},
   "source": [
    "# Notes for Tetris in React\n",
    "\n",
    "### Basic React commands\n",
    "\n",
    " Command | Description \n",
    " --- | --- \n",
    " `npm install -g npx` | Install npx globally, which allows creating a non-blank Ract applicaiton\n",
    " `npx create-react-app` | Create a new React application with some basic build settings\n",
    " `npm init create-react-app tetris_tutorial `| Create a new blank React application \n",
    " `npm start` | Run your React project\n",
    " `npm test` | Run your React project in test mode\n",
    " `npm run build` | Builds and optimizes your React project into a build folder\n",
    " `npm run eject` | Removes all the dependencies and configs created from npx create-react-app\n",
    " \n",
    " If you did npx create-react-app, you will have a public and src folder. In the src folder, create an img, font, and hooks folder.\n"
   ]
  },
  {
   "cell_type": "code",
   "execution_count": null,
   "metadata": {},
   "outputs": [],
   "source": []
  },
  {
   "cell_type": "code",
   "execution_count": null,
   "metadata": {},
   "outputs": [],
   "source": []
  }
 ],
 "metadata": {
  "kernelspec": {
   "display_name": "Python 3",
   "language": "python",
   "name": "python3"
  },
  "language_info": {
   "codemirror_mode": {
    "name": "ipython",
    "version": 3
   },
   "file_extension": ".py",
   "mimetype": "text/x-python",
   "name": "python",
   "nbconvert_exporter": "python",
   "pygments_lexer": "ipython3",
   "version": "3.6.8"
  }
 },
 "nbformat": 4,
 "nbformat_minor": 2
}
